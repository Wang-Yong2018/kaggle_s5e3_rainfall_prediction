{
    "cells": [
        {
            "cell_type": "markdown",
            "metadata": {},
            "source": [
                "\n"
            ]
        },
        {
            "cell_type": "code",
            "execution_count": null,
            "metadata": {
                "vscode": {
                    "languageId": "r"
                }
            },
            "outputs": [],
            "source": [
                "knitr::opts_chunk$set(echo = TRUE)"
            ]
        },
        {
            "cell_type": "markdown",
            "metadata": {},
            "source": [
                "## Target\n",
                "The goal of this competition is to predict rainfall for each day of the year.\n",
                "\n",
                "ML tools: \n",
                "  tidymodels related worksflows & glm, lightgbm, ranger engine.\n",
                "Evaluatioin metric:\n",
                "  roc_auc, percent of rain probability.\n",
                "  sample_submission.csv : 0.5. it is value is 0. I tried change it to 1, the score is 0.5 as well.\n",
                "  kaggle best score is 0.87 in the begining.\n",
                "  \n",
                "Notice:\n",
                "- from small data, data usage is as important as feature engineering. cv with repeate could slightly reduce the variance(std_err). as side effect, the metric might be improve a bit as well.\n",
                "- in last stage, consider change cv =10, repeate = 5. it is computation expensive task. only do at final stage.\n",
                "\n",
                "## librar y & load_data\n",
                "\n",
                "### library\n"
            ]
        },
        {
            "cell_type": "code",
            "execution_count": null,
            "metadata": {
                "vscode": {
                    "languageId": "r"
                }
            },
            "outputs": [],
            "source": [
                "library(tidyverse)\n",
                "library(tidymodels)\n",
                "library(finetune)\n",
                "library(future)\n",
                "library(purrr)\n",
                "library(furrr)\n",
                "library(textrecipes)\n",
                "library(themis)\n",
                "\n",
                "\n",
                "library(bonsai)\n",
                "library(lightgbm)\n",
                "library(xgboost)\n",
                "library(ranger)\n",
                "\n",
                "library(readr)\n",
                "library(janitor)\n",
                "library(lubridate)\n"
            ]
        },
        {
            "cell_type": "markdown",
            "metadata": {},
            "source": [
                "\n"
            ]
        },
        {
            "cell_type": "code",
            "execution_count": null,
            "metadata": {
                "vscode": {
                    "languageId": "r"
                }
            },
            "outputs": [],
            "source": [
                "#TODO, column 18,7 has some strange data leave it handle future. 71 lines in train, 159 line in test\n"
            ]
        },
        {
            "cell_type": "markdown",
            "metadata": {},
            "source": [
                "### loading data\n",
                "\n"
            ]
        },
        {
            "cell_type": "code",
            "execution_count": null,
            "metadata": {
                "vscode": {
                    "languageId": "r"
                }
            },
            "outputs": [],
            "source": [
                "data_path <- '../input/playground-series-s5e3/'\n",
                "train<- \n",
                "  readr::read_csv(file.path(data_path, 'train.csv'),\n",
                "                  show_col_types = FALSE)|>\n",
                "  mutate(rainfall=as.factor(rainfall))\n",
                "test <- \n",
                "  readr::read_csv(file.path(data_path, 'test.csv'),\n",
                "                  show_col_types = FALSE)\n",
                "submission <-  readr::read_csv(file.path(data_path, 'sample_submission.csv'),show_col_types = FALSE)\n"
            ]
        },
        {
            "cell_type": "markdown",
            "metadata": {},
            "source": [
                "### quick skim\n",
                "\n"
            ]
        },
        {
            "cell_type": "markdown",
            "metadata": {},
            "source": [
                "### check if train & test is same distribution\n",
                "\n"
            ]
        },
        {
            "cell_type": "code",
            "execution_count": null,
            "metadata": {
                "vscode": {
                    "languageId": "r"
                }
            },
            "outputs": [],
            "source": [
                "get_df_var<-function(df){\n",
                "  df|>\n",
                "    select(-any_of(c('id','rainfall')))|>\n",
                "    summarize_all(var)|>\n",
                "    pivot_longer(cols=everything(),\n",
                "                 names_to='feature',\n",
                "                 values_to='variance')\n",
                "\n",
                "}\n",
                "list(train=train, test=test)|>\n",
                "  map_dfr(\\(x) get_df_var(x), .id = \"dataset\") |>\n",
                "  pivot_wider(names_from=dataset, values_from = variance)|>\n",
                "  mutate(pct_change=(train-test)/train)#|>arrange(desc(abs(diff)))\n"
            ]
        },
        {
            "cell_type": "markdown",
            "metadata": {},
            "source": [
                "### Finding of different distribution\n",
                "there is no big change found \n",
                "\n",
                "## EDA\n",
                "\n",
                "### time series EDA\n"
            ]
        },
        {
            "cell_type": "markdown",
            "metadata": {},
            "source": [
                "#### plot ts\n"
            ]
        },
        {
            "cell_type": "markdown",
            "metadata": {},
            "source": [
                "## coding\n",
                "\n",
                "### 1. Data Loading and Initial Exploration ----\n",
                "\n",
                "### 2. Feature Engineering ----\n",
                "\n",
                "-   leave it in the preprocessing recipe\n",
                "\n",
                "### 3. Data Splitting ----\n",
                "\n",
                "#### augment_df\n",
                "\n",
                "#### split/cv\n"
            ]
        },
        {
            "cell_type": "code",
            "execution_count": null,
            "metadata": {
                "vscode": {
                    "languageId": "r"
                }
            },
            "outputs": [],
            "source": [
                "set.seed(1234)\n",
                "#train <- ts_df |> as_tibble() |>filter(source=='train')|>select(-source)\n",
                "# df_split <- initial_time_split(train, prop = 0.8)\n",
                "df_split <- initial_split(train, prop = 0.8, strata = rainfall)\n",
                "train_set <- training(df_split)\n",
                "test_set <- testing(df_split)\n",
                "cv_folds <- vfold_cv(train_set,\n",
                "                     v = 10\n",
                "                     repeats = 5,\n",
                "                     repeats = 1,\n",
                "                     strata = rainfall)\n",
                "#cv_folds <- train_set |> sliding_period(index=date, period='year')\n"
            ]
        },
        {
            "cell_type": "markdown",
            "metadata": {},
            "source": [
                "### 4. Preprocessing Recipe ----\n",
                "\n",
                "#### 4.0 v0 base_line - \n"
            ]
        },
        {
            "cell_type": "code",
            "execution_count": null,
            "metadata": {
                "vscode": {
                    "languageId": "r"
                }
            },
            "outputs": [],
            "source": [
                "rcp_bs_v0 <-\n",
                "  recipe(rainfall ~ ., data = train_set) |>\n",
                "  update_role(id, new_role='ID')|>\n",
                "  #step_rm(date,year_offset)|>\n",
                "  step_impute_median(all_numeric_predictors())|> \n",
                "  step_log(all_numeric_predictors(),offset = 1, skip = FALSE) |>\n",
                "  # process the logical feature to factor feature\n",
                "  step_bin2factor(all_logical_predictors())|>\n",
                "  # proceeding the convert the character feature to factorical feature\n",
                "  step_novel(all_nominal_predictors())|>\n",
                "  step_unknown(all_nominal_predictors()) |>\n",
                "  step_other(all_nominal_predictors())|>\n",
                "  step_dummy(all_nominal_predictors(),one_hot = TRUE) |>\n",
                "  step_nzv(all_predictors())|>\n",
                "  #step_corr(all_numeric_predictors())|>\n",
                "  step_normalize(all_numeric_predictors())|> # Scale numeric predictors\n",
                "  #step_smote(rainfall,over_ratio = 1,skip = TRUE)|>\n",
                "  check_missing(all_predictors())\n"
            ]
        },
        {
            "cell_type": "markdown",
            "metadata": {},
            "source": [
                "\n",
                "#### 4.0 v0_wd_smote\n"
            ]
        },
        {
            "cell_type": "code",
            "execution_count": null,
            "metadata": {
                "vscode": {
                    "languageId": "r"
                }
            },
            "outputs": [],
            "source": [
                "rcp_bs_v0_wd_smote <-\n",
                "  recipe(rainfall ~ ., data = train_set) |>\n",
                "  update_role(id, new_role='ID')|>\n",
                "  #step_rm(date,year_offset)|>\n",
                "  step_impute_linear(winddirection)|>\n",
                "  #step_impute_median(all_numeric_predictors())|> \n",
                "  step_log(all_numeric_predictors(),offset = 1, skip = FALSE) |>\n",
                "  # process the logical feature to factor feature\n",
                "  step_bin2factor(all_logical_predictors())|>\n",
                "  # proceeding the convert the character feature to factorical feature\n",
                "  step_novel(all_nominal_predictors())|>\n",
                "  step_unknown(all_nominal_predictors()) |>\n",
                "  step_other(all_nominal_predictors())|>\n",
                "  step_dummy(all_nominal_predictors(),one_hot = TRUE) |>\n",
                "  step_nzv(all_predictors())|>\n",
                "  #step_corr(all_numeric_predictors())|>\n",
                "  step_normalize(all_numeric_predictors())|> # Scale numeric predictors\n",
                "  step_smote(rainfall,over_ratio = 1,skip = TRUE)|>\n",
                "  check_missing(all_predictors())\n"
            ]
        },
        {
            "cell_type": "markdown",
            "metadata": {},
            "source": [
                "\n",
                "#### 4.1 v1 base_line - bad\n"
            ]
        },
        {
            "cell_type": "code",
            "execution_count": null,
            "metadata": {
                "vscode": {
                    "languageId": "r"
                }
            },
            "outputs": [],
            "source": [
                "rcp_bs_v1 <-\n",
                "  recipe(rainfall ~ ., data = train_set) |>\n",
                "  update_role(id, new_role='ID')|>\n",
                "  #step_date(date, features=c('month','week'))|>\n",
                "   step_mutate(\n",
                "   temp_range= maxtemp - mintemp,\n",
                "   heat_index= temparature+ 0.5 * (temparature- 10) * (humidity / 100),\n",
                "   dew_dep= temparature - dewpoint,\n",
                "   cloud_sun_ratio = cloud / sunshine + 1,    \n",
                "   pressure_change = c(NA, diff(pressure)),\n",
                "   air_density = 1.225 , \n",
                "   wind_power = 0.5 * air_density * windspeed**3,\n",
                "   wind_direction_cat = cut(winddirection, \n",
                "                            breaks=c(0, 90, 180, 270, 360), \n",
                "                            labels=c(\"North\", \"East\", \"South\", \"West\"), \n",
                "                            include.lowest=TRUE),\n",
                "   cloud_humidity = cloud + humidity,\n",
                "   cloud_humidity_sunshine = cloud + humidity + sunshine,\n",
                "   cloud_x_sunshine = cloud * sunshine,\n",
                "   humidity_x_sunshine = humidity * sunshine)|>\n",
                "  step_rm(date,year_offset)|>\n",
                "  step_impute_median(all_numeric_predictors())|> \n",
                "  step_log(all_numeric_predictors(),offset = 1, skip = FALSE) |>\n",
                "  step_lag(all_numeric_predictors(),lag =c(1))|>\n",
                "  step_impute_median(all_numeric_predictors())|> \n",
                "  # process the logical feature to factor feature\n",
                "  step_bin2factor(all_logical_predictors())|>\n",
                "  # proceeding the convert the character feature to factorical feature\n",
                "  step_novel(all_nominal_predictors())|>\n",
                "  step_unknown(all_nominal_predictors()) |>\n",
                "  step_other(all_nominal_predictors())|>\n",
                "  step_dummy(all_nominal_predictors(),one_hot = TRUE) |>\n",
                "  step_nzv(all_predictors())|>\n",
                "  step_corr(all_numeric_predictors())|>\n",
                "  step_normalize(all_numeric_predictors())|> # Scale numeric predictors\n",
                "\n",
                "  check_missing(all_predictors())\n"
            ]
        },
        {
            "cell_type": "markdown",
            "metadata": {},
            "source": [
                "\n",
                "#### 4.2 v2 base_line - \n"
            ]
        },
        {
            "cell_type": "code",
            "execution_count": null,
            "metadata": {
                "vscode": {
                    "languageId": "r"
                }
            },
            "outputs": [],
            "source": [
                "# df[\"Temp_Range\"] = df[\"maxtemp\"] - df[\"mintemp\"]\n",
                "#     df[\"Heat_Index\"] = df[\"temparature\"] + 0.5 * (df[\"temparature\"] - 10) * (df[\"humidity\"] / 100)    \n",
                "#     df[\"Dew_Dep\"] = df[\"temparature\"] - df[\"dewpoint\"]    \n",
                "#     df[\"Wind_Chill\"] = np.where(\n",
                "#         df[\"temparature\"] < 10,\n",
                "#         13.12 + 0.6215 * df[\"temparature\"] - 11.37 * df[\"windspeed\"]**0.16 + \n",
                "#        0.3965 * df[\"temparature\"] * df[\"windspeed\"]**0.16,\n",
                "#         df[\"temparature\"]\n",
                "#     )    \n",
                "#     df[\"Cloud_Sun_Ratio\"] = df[\"cloud\"] / (df[\"sunshine\"] + 1)    \n",
                "#     df[\"Pressure_Change\"] = df[\"pressure\"].diff().fillna(0)    \n",
                "#     air_density = 1.225  \n",
                "#     df[\"Wind_Power\"] = 0.5 * air_density * df[\"windspeed\"]**3         \n",
                "#     df[\"Wind_Direction_Cat\"] = pd.cut(df[\"winddirection\"], \n",
                "#                                       bins=[0, 90, 180, 270, 360], \n",
                "#                                       labels=[\"North\", \"East\", \"South\", \"West\"], \n",
                "#                                       include_lowest=True)\n",
                "# \n",
                "#     df['cloud + humidity'] = df.cloud + df.humidity\n",
                "#     df['cloud + humidity + sunshine'] = df.cloud + df.humidity + df.sunshine\n",
                "#     df['cloud * sunshine'] = df.cloud * df.sunshine\n",
                "#     df['humidity * sunshine'] = df.humidity * df.sunshine\n",
                "# \n",
                "#     df[\"HTI\"] = df[\"temparature\"] + 0.2 * df[\"humidity\"]    \n",
                "#     df[\"ACI\"] = (df[\"maxtemp\"] + df[\"mintemp\"]) / 2 - (df[\"humidity\"] / 2) + df[\"dewpoint\"]    \n",
                "#     df[\"CSI\"] = (df[\"sunshine\"] - df[\"cloud\"]) / (df[\"sunshine\"] + df[\"cloud\"] + 1)  \n",
                "#     df[\"WCI\"] = df[\"temparature\"] - 0.5 * df[\"windspeed\"]\n",
                "#     df['day'] = pd.to_datetime(df['day'], errors='coerce')    \n",
                "#    \n",
                "#     df['month'] = df['day'].dt.month\n",
                "#     df['day_of_week'] = df['day'].dt.dayofweek\n",
                "#     df['is_weekend'] = df['day_of_week'].isin([5, 6]).astype(int)    \n",
                "#     df['temp_range'] = df['maxtemp'] - df['mintemp']\n",
                "#     df['avg_temp'] = (df['maxtemp'] + df['mintemp']) / 2\n",
                "#     df['temp_deviation'] = df['temparature'] - df['avg_temp']   \n",
                "#   \n",
                "#     df['dew_point_depression'] = df['temparature'] - df['dewpoint']    \n",
                "#    \n",
                "#     df['wind_dir_rad'] = np.deg2rad(df['winddirection'])\n",
                "#     df['wind_dir_sin'] = np.sin(df['wind_dir_rad'])\n",
                "#     df['wind_dir_cos'] = np.cos(df['wind_dir_rad'])\n",
                "#     df.drop(columns=['wind_dir_rad'], inplace=True)   \n",
                "#     df['wind_chill'] = 13.12 + 0.6215 * df['temparature'] - 11.37 * (df['windspeed']**0.16) + 0.3965 * df['temparature'] * (df['windspeed']**0.16)\n",
                "#     df['humidity_temp'] = df['humidity'] * df['temparature']\n",
                "#     df['cloud_sunshine'] = df['cloud'] * df['sunshine']\n",
                "#     df['rolling_temp_mean'] = df['avg_temp'].rolling(window=7).mean()\n",
                "#     df['rolling_wind_mean'] = df['windspeed'].rolling(window=7).mean()\n",
                "#     df['rolling_humidity_mean'] = df['humidity'].rolling(window=7).mean()\n",
                "#     df['temp_lag_1'] = df['avg_temp'].shift(1)\n",
                "#     df['humidity_lag_1'] = df['humidity'].shift(1)\n",
                "#     df['windspeed_lag_1'] = df['windspeed'].shift(1)\n",
                "#     df['pressure_temp_interaction'] = df['pressure'] * df['avg_temp']\n",
                "#     df['windspeed_temp_interaction'] = df['windspeed'] * df['avg_temp']\n",
                "#     df['sunshine_cloud_interaction'] = df['sunshine'] * df['cloud']\n",
                "#     df['season'] = df['month'].apply(lambda x: 'Spring' if 3 <= x <= 5 else\n",
                "#                                       'Summer' if 6 <= x <= 8 else\n",
                "#                                       'Autumn' if 9 <= x <= 11 else 'Winter')\n",
                "#     for c in ['pressure', 'maxtemp', 'temparature', 'humidity']:\n",
                "#         for gap in [1]:\n",
                "#             df[c+f\"_shift{gap}\"] = df[c].shift(gap)\n",
                "#             df[c+f\"_diff{gap}\"] = df[c].diff(gap)\n",
                "#     df = pd.get_dummies(df, columns=['season'], drop_first=True)  \n",
                "#     df.drop(columns=['day'], inplace=True\n"
            ]
        },
        {
            "cell_type": "markdown",
            "metadata": {},
            "source": [
                "\n"
            ]
        },
        {
            "cell_type": "code",
            "execution_count": null,
            "metadata": {
                "vscode": {
                    "languageId": "r"
                }
            },
            "outputs": [],
            "source": [
                "rcp_bs_v2 <-\n",
                "  recipe(rainfall ~ ., data = train_set) |>\n",
                "  update_role(id, new_role='ID')|>\n",
                "  step_rm(date,year_offset)|>\n",
                "  step_impute_median(all_numeric_predictors())|> \n",
                "  step_mutate(\n",
                "   temp_range= maxtemp - mintemp,\n",
                "   heat_index= temparature+ 0.5 * (temparature- 10) * (humidity / 100),\n",
                "   dew_dep= temparature - dewpoint,\n",
                "   cloud_sun_ratio = cloud / sunshine + 1,    \n",
                "   pressure_change = c(NA,diff(pressure)),\n",
                "   air_density = 1.225 , \n",
                "   wind_power = 0.5 * air_density * windspeed**3,\n",
                "   wind_direction_cat = cut(winddirection, \n",
                "                            breaks=c(0, 90, 180, 270, 360), \n",
                "                            labels=c(\"North\", \"East\", \"South\", \"West\"), \n",
                "                            include.lowest=True),\n",
                "   cloud_humidity = cloud + humidity,\n",
                "   cloud_humidity_sunshine = cloud + humidity + sunshine,\n",
                "   cloud_x_sunshine = cloud * sunshine,\n",
                "   humidity_x_sunshine = humidity * sunshine)|>\n",
                "  step_impute_median(all_numeric_predictors())|> \n",
                "  step_log(all_numeric_predictors(),offset = 1, skip = FALSE) |>\n",
                "  # process the logical feature to factor feature\n",
                "  step_bin2factor(all_logical_predictors())|>\n",
                "  # proceeding the convert the character feature to factorical feature\n",
                "  step_novel(all_nominal_predictors())|>\n",
                "  step_unknown(all_nominal_predictors()) |>\n",
                "  step_other(all_nominal_predictors())|>\n",
                "  step_dummy(all_nominal_predictors(),one_hot = TRUE) |>\n",
                "  step_nzv(all_predictors())|>\n",
                "  #step_corr(all_numeric_predictors())|>\n",
                "  step_normalize(all_numeric_predictors())|> # Scale numeric predictors\n",
                "  #step_smote(rainfall,over_ratio = 1,skip = TRUE)|>\n",
                "  check_missing(all_predictors())\n"
            ]
        },
        {
            "cell_type": "markdown",
            "metadata": {},
            "source": [
                "#### 4.10 all recipes\n",
                "\n"
            ]
        },
        {
            "cell_type": "code",
            "execution_count": null,
            "metadata": {
                "vscode": {
                    "languageId": "r"
                }
            },
            "outputs": [],
            "source": [
                "set.seed(1234)\n",
                "library(future)\n",
                "library(furrr)\n",
                "selected_rcps <- list(#bs=rcp_bs_v0\n",
                "                      bs_wd_smote=rcp_bs_v0_wd_smote\n",
                "                      #bs_v1=rcp_bs_v1#, # is significanttly change the data , and performance is descress . give it up.\n",
                "                      #bs_v2=rcp_bs_v2\n",
                "                      )\n",
                "#plan(multisession,workers = 5)\n",
                "#selected_rcps|>map(\\(rcp_item) rcp_item|>prep()|>bake(new_data=train_set)|>summary())\n",
                "#plan(sequential)\n"
            ]
        },
        {
            "cell_type": "markdown",
            "metadata": {},
            "source": [
                "### 5. Model Specification ----\n",
                "\n"
            ]
        },
        {
            "cell_type": "code",
            "execution_count": null,
            "metadata": {
                "vscode": {
                    "languageId": "r"
                }
            },
            "outputs": [],
            "source": [
                "glm_eng <- \n",
                "  logistic_reg(penalty = 0.01623777,\n",
                "               mixture = 0.05) |>  # Example penalty and mixture values\n",
                "  set_engine(\"glmnet\") |>\n",
                "  set_mode(\"classification\")    # Specify classification\n",
                "\n",
                "lgbm_eng<-\n",
                "   parsnip::boost_tree(\n",
                "      trees = 500, # Number of trees\n",
                "      #learn_rate = 0.01,\n",
                "      tree_depth =5,\n",
                "      loss_reduction = 0.001,\n",
                "      stop_iter = 50,  \n",
                "      #sample_size = 0.9, # Added sample_size\n",
                "      #tree_depth = tune(),\n",
                "      #mtry = 0.5,\n",
                "      min_n = 200\n",
                "   ) |>\n",
                "   set_mode(\"classification\")|>\n",
                "   set_engine(\"lightgbm\",\n",
                "              #metric='roc_auc', \n",
                "              num_leaves = 20,\n",
                "              counts = FALSE,\n",
                "              metric = \"auc\",              # 优化目标\n",
                "              verbose=1) \n",
                "\n",
                "rf_eng<- rand_forest( trees = 700, \n",
                "                      #learn_rate = 0.01,\n",
                "                      #sample_size=0.8,\n",
                "                      #mtry=10, \n",
                "                      min_n=200) |>\n",
                "  set_engine(\"ranger\",num.threads=4)|>\n",
                "  set_mode(\"classification\") \n",
                "\n",
                "xgb_eng<- parsnip::boost_tree( trees = 500, \n",
                "                      learn_rate = 0.01,\n",
                "                      loss_reduction = 0.001,\n",
                "                      sample_size = 0.8, # Added sample_size\n",
                "                      #mtry=tune(),\n",
                "                      min_n=70) |>\n",
                "  set_engine(\"xgboost\",num.threads=8)|>\n",
                "  set_mode(\"classification\")\n",
                "\n",
                "\n",
                "c50_eng <- boost_tree() |>\n",
                "  set_mode('classification')|>\n",
                "  set_engine('C5.0')\n",
                "\n",
                "earth_eng <-  # good model base score 0.8718\n",
                "  mars() %>% \n",
                "  set_mode(\"classification\") %>% \n",
                "  set_engine(\"earth\") \n",
                "\n",
                "svm_eng <- \n",
                "  svm_rbf(\n",
                "    cost = 0.001, \n",
                "    rbf_sigma = 0.01\n",
                "    ) %>% \n",
                "  set_mode(\"classification\") \n",
                "\n",
                "kknn_eng <- \n",
                "  nearest_neighbor(neighbors = 5, \n",
                "                   #weight_func = tune()\n",
                "                   ) %>% \n",
                "  set_mode(\"classification\") %>% \n",
                "  set_engine(\"kknn\") \n",
                "\n",
                "selected_eng <- list(glm=glm_eng,\n",
                "                     rf=rf_eng,\n",
                "                     #lgbm=lgbm_eng,\n",
                "                     xgb=xgb_eng,\n",
                "                     #c50=c50_eng,\n",
                "                     earth= earth_eng,\n",
                "                     #kknn=kknn_eng,\n",
                "                     svm=svm_eng\n",
                "                     \n",
                "                     )\n"
            ]
        },
        {
            "cell_type": "markdown",
            "metadata": {},
            "source": [
                "### 6. Workflow ----\n",
                "#### set metrics\n"
            ]
        },
        {
            "cell_type": "code",
            "execution_count": null,
            "metadata": {
                "vscode": {
                    "languageId": "r"
                }
            },
            "outputs": [],
            "source": [
                "rocauc_metrics <- metric_set(roc_auc) # main goal is roc_auc, accuracy is just for reference"
            ]
        },
        {
            "cell_type": "markdown",
            "metadata": {},
            "source": [
                "#### simple wflow\n",
                "\n"
            ]
        },
        {
            "cell_type": "code",
            "execution_count": null,
            "metadata": {
                "vscode": {
                    "languageId": "r"
                }
            },
            "outputs": [],
            "source": [
                "set.seed(1234)\n",
                "\n",
                "simple_wf_fit <- \n",
                "  workflow() |>\n",
                "  add_recipe(rcp_bs_v0_wd_smote) |>\n",
                "  add_model(svm_eng)|>\n",
                "  # fit(train_set)\n",
                "  fit_resamples(cv_folds,\n",
                "  #  last_fit(df_split,\n",
                "          control = ctrl,\n",
                "           metrics=rocauc_metrics)\n",
                "#plan(sequential)\n",
                " simple_wf_fit |> collect_metrics()\n",
                "#   extract_fit_engine()|>\n",
                "#   plot()\n"
            ]
        },
        {
            "cell_type": "markdown",
            "metadata": {},
            "source": [
                "#### simple workflowset\n",
                "\n"
            ]
        },
        {
            "cell_type": "code",
            "execution_count": null,
            "metadata": {
                "vscode": {
                    "languageId": "r"
                }
            },
            "outputs": [],
            "source": [
                "set.seed(1234)\n",
                "library(future)\n",
                "plan(multisession,workers = 12)\n",
                "ctrl <- control_resamples(save_pred = TRUE, save_workflow = TRUE,verbose=TRUE)\n",
                "wfs_result <-\n",
                "  workflow_set(preproc = selected_rcps,\n",
                "               models = selected_eng ) |>\n",
                "  workflow_map(fn='fit_resamples',\n",
                "               resamples =cv_folds,\n",
                "               metrics =rocauc_metrics,\n",
                "               control = ctrl\n",
                "               )\n",
                "wfs_result|> \n",
                "  collect_metrics()  |>\n",
                "  filter(.metric=='roc_auc')|>\n",
                "  select(wflow_id, model, .metric,mean, n, std_err\n",
                "         )\n",
                "  \n",
                "plan(sequential)\n"
            ]
        },
        {
            "cell_type": "markdown",
            "metadata": {},
            "source": [
                "### 7 stacking\n",
                "\n"
            ]
        },
        {
            "cell_type": "code",
            "execution_count": null,
            "metadata": {
                "vscode": {
                    "languageId": "r"
                }
            },
            "outputs": [],
            "source": [
                "set.seed(1234)\n",
                "library(future)\n",
                "#plan(multisession,workers = 4)\n",
                "combined_fit <-\n",
                "  stacks::stacks()|>\n",
                "  stacks::add_candidates(wfs_result)|>\n",
                "  stacks::blend_predictions()|>\n",
                "  stacks::fit_members()\n",
                "\n",
                "combined_fit|>\n",
                "  autoplot(type = \"weights\")\n",
                "\n",
                "autoplot(combined_fit)\n",
                "#plan(sequential)\n"
            ]
        },
        {
            "cell_type": "markdown",
            "metadata": {},
            "source": [
                "### 7. Tuning Grid ----\n",
                "#### tune lgbm\n"
            ]
        },
        {
            "cell_type": "markdown",
            "metadata": {},
            "source": [
                "\n",
                "#### tune glmnet\n"
            ]
        },
        {
            "cell_type": "markdown",
            "metadata": {},
            "source": [
                "### 8. Cross-Validation ----\n",
                "\n"
            ]
        },
        {
            "cell_type": "markdown",
            "metadata": {},
            "source": [
                "### 9. Tuning and Evaluation ----\n",
                "\n"
            ]
        },
        {
            "cell_type": "markdown",
            "metadata": {},
            "source": [
                "### 10. Evaluate on Test Set ----\n",
                "\n"
            ]
        },
        {
            "cell_type": "code",
            "execution_count": null,
            "metadata": {
                "vscode": {
                    "languageId": "r"
                }
            },
            "outputs": [],
            "source": [
                "combined_test_result <- \n",
                "  test_set %>%\n",
                "  bind_cols(predict(combined_fit, \n",
                "                    new_data=test_set,type='prob'))\n",
                "combined_test_result|>roc_auc(rainfall, .pred_1,event_level = 'second')\n"
            ]
        },
        {
            "cell_type": "markdown",
            "metadata": {},
            "source": [
                "### 11. Prepare Submission ----\n",
                "\n"
            ]
        },
        {
            "cell_type": "code",
            "execution_count": null,
            "metadata": {
                "vscode": {
                    "languageId": "r"
                }
            },
            "outputs": [],
            "source": [
                "set.seed(1234)\n",
                "library(future)\n",
                "plan(multisession,workers = 12)\n",
                "final_model <- combined_fit#simple_wf_fit|>extract_workflow()\n",
                "#final_model <- simple_wf_fit|>extract_workflow()\n",
                "final_predictions <- final_model |>\n",
                "   predict(new_data = test,\n",
                "           type='prob') \n",
                "plan(sequential)\n",
                "\n",
                " # #Handle negative predictions\n",
                " # final_predictions <- final_predictions |>\n",
                " #   mutate(.pred= ifelse(.pred< 0, 0, .pred))\n",
                "\n",
                " # Save submission file\n",
                " submission |>\n",
                "   mutate(rainfall=final_predictions$.pred_1)|>\n",
                "   readr::write_csv(\"submission.csv\")\n",
                " zip('submission.csv.zip','submission.csv')\n",
                " \n"
            ]
        }
    ],
    "metadata": {
        "anaconda-cloud": "",
        "kernelspec": {
            "display_name": "R",
            "langauge": "R",
            "name": "ir"
        },
        "language_info": {
            "codemirror_mode": "r",
            "file_extension": ".r",
            "mimetype": "text/x-r-source",
            "name": "R",
            "pygments_lexer": "r",
            "version": "3.4.1"
        }
    },
    "nbformat": 4,
    "nbformat_minor": 1
}
