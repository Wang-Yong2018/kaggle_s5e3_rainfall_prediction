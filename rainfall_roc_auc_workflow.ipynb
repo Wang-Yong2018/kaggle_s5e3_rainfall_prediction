{
    "cells": [
        {
            "cell_type": "markdown",
            "metadata": {},
            "source": "\n"
        },
        {
            "cell_type": "code",
            "execution_count": null,
            "metadata": {},
            "outputs": [],
            "source": [
                "knitr::opts_chunk$set(echo = TRUE)\n",
                "\n"
            ]
        },
        {
            "cell_type": "markdown",
            "metadata": {},
            "source": [
                "## Target\n",
                "The goal of this competition is to predict rainfall for each day of the year.\n",
                "\n",
                "ML tools: \n",
                "  tidymodels related worksflows & glm, lightgbm, ranger engine.\n",
                "Evaluatioin metric:\n",
                "  roc_auc, percent of rain probability.\n",
                "  sample_submission.csv : 0.5. it is value is 0. I tried change it to 1, the score is 0.5 as well.\n",
                "  kaggle best score is 0.87 in the begining.\n",
                "\n",
                "## librar y & load_data\n",
                "\n",
                "### library\n"
            ]
        },
        {
            "cell_type": "code",
            "execution_count": null,
            "metadata": {},
            "outputs": [],
            "source": [
                "library(tidyverse)\n",
                "library(tidymodels)\n",
                "library(future)\n",
                "library(purrr)\n",
                "library(furrr)\n",
                "library(textrecipes)\n",
                "library(themis)\n",
                "\n",
                "library(bonsai)\n",
                "library(lightgbm)\n",
                "library(xgboost)\n",
                "library(ranger)\n",
                "\n",
                "library(readr)\n",
                "library(janitor)\n",
                "library(lubridate)\n"
            ]
        },
        {
            "cell_type": "markdown",
            "metadata": {},
            "source": "\n"
        },
        {
            "cell_type": "code",
            "execution_count": null,
            "metadata": {},
            "outputs": [],
            "source": [
                "#TODO, column 18,7 has some strange data leave it handle future. 71 lines in train, 159 line in test\n",
                "# row833049 column 18 is f has-ring is total wrong. \n",
                "# so keep using readr:read_csv handling\n"
            ]
        },
        {
            "cell_type": "markdown",
            "metadata": {},
            "source": [
                "### loading data\n",
                "\n"
            ]
        },
        {
            "cell_type": "code",
            "execution_count": null,
            "metadata": {},
            "outputs": [],
            "source": [
                "data_path <- '../input/playground-series-s5e3/'\n",
                "train<- \n",
                "  readr::read_csv(file.path(data_path, 'train.csv'),\n",
                "                  show_col_types = FALSE)|>\n",
                "  mutate(rainfall=as.factor(rainfall))\n",
                "test <- \n",
                "  readr::read_csv(file.path(data_path, 'test.csv'),\n",
                "                  show_col_types = FALSE)\n",
                "submission <-  readr::read_csv(file.path(data_path, 'sample_submission.csv'),show_col_types = FALSE)\n"
            ]
        },
        {
            "cell_type": "markdown",
            "metadata": {},
            "source": [
                "### quick skim\n",
                "\n"
            ]
        },
        {
            "cell_type": "code",
            "execution_count": null,
            "metadata": {},
            "outputs": [],
            "source": [
                "train|> skimr::skim()\n",
                "\n"
            ]
        },
        {
            "cell_type": "markdown",
            "metadata": {},
            "source": "\n"
        },
        {
            "cell_type": "code",
            "execution_count": null,
            "metadata": {},
            "outputs": [],
            "source": [
                "test|> skimr::skim()\n",
                "\n"
            ]
        },
        {
            "cell_type": "markdown",
            "metadata": {},
            "source": "\n"
        },
        {
            "cell_type": "code",
            "execution_count": null,
            "metadata": {},
            "outputs": [],
            "source": [
                "submission |> skimr::skim()\n",
                "\n"
            ]
        },
        {
            "cell_type": "markdown",
            "metadata": {},
            "source": [
                "### check if train & test is same distribution\n",
                "\n"
            ]
        },
        {
            "cell_type": "code",
            "execution_count": null,
            "metadata": {},
            "outputs": [],
            "source": [
                "get_df_var<-function(df){\n",
                "  df|>\n",
                "    select(-any_of(c('id','rainfall')))|>\n",
                "    summarize_all(var)|>\n",
                "    pivot_longer(cols=everything(),\n",
                "                 names_to='feature',\n",
                "                 values_to='variance')\n",
                "\n",
                "}\n",
                "list(train, test)|>\n",
                "  map_dfr(\\(x) get_df_var(x), .id = \"dataset\") |>\n",
                "  pivot_wider(names_from=dataset, values_from = variance)|>\n",
                "  mutate(diff=`1`-`2`)|>arrange(desc(abs(diff)))\n"
            ]
        },
        {
            "cell_type": "markdown",
            "metadata": {},
            "source": [
                "### Finding of different distribution\n",
                "- the day feature (-49)\n",
                "- cloud  (3.32)\n",
                "- pressure, mintemp, windspeed, dewpoint\n",
                "\n",
                "\n",
                "## coding\n",
                "\n",
                "### 1. Data Loading and Initial Exploration ----\n",
                "\n",
                "### 2. Feature Engineering ----\n",
                "\n",
                "-   leave it in the preprocessing recipe\n",
                "\n",
                "### 3. Data Splitting ----\n",
                "\n",
                "#### augment_df\n",
                "\n",
                "#### split/cv\n"
            ]
        },
        {
            "cell_type": "code",
            "execution_count": null,
            "metadata": {},
            "outputs": [],
            "source": [
                "set.seed(1234)\n",
                "\n",
                "df_split <- initial_split(train, prop = 0.8, strata = rainfall)\n",
                " train_set <- training(df_split)\n",
                " test_set <- testing(df_split)\n",
                "cv_folds <- vfold_cv(train_set,v = 10,strata=rainfall)\n"
            ]
        },
        {
            "cell_type": "markdown",
            "metadata": {},
            "source": [
                "### 4. Preprocessing Recipe ----\n",
                "\n",
                "#### 4.1 v0 base_line - \n"
            ]
        },
        {
            "cell_type": "code",
            "execution_count": null,
            "metadata": {},
            "outputs": [],
            "source": [
                "rcp_bs_v0 <-\n",
                "  recipe(rainfall ~ ., data = train_set) |>\n",
                "  update_role(id, new_role='ID')|>\n",
                "  step_impute_median(all_numeric_predictors())|> \n",
                "  step_log(all_numeric_predictors(),offset = 1, skip = FALSE) |>\n",
                "  # process the logical feature to factor feature\n",
                "  step_bin2factor(all_logical_predictors())|>\n",
                "  # proceeding the convert the character feature to factorical feature\n",
                "  step_novel(all_nominal_predictors())|>\n",
                "  step_unknown(all_nominal_predictors()) |>\n",
                "  step_other(all_nominal_predictors())|>\n",
                "  step_dummy(all_nominal_predictors(),one_hot = TRUE) |>\n",
                "  step_nzv(all_predictors())|>\n",
                "  #step_corr(all_numeric_predictors())|>\n",
                "  step_normalize(all_numeric_predictors())|> # Scale numeric predictors\n",
                "  #step_smote(rainfall,over_ratio = 1,skip = TRUE)|>\n",
                "  check_missing(all_predictors())\n"
            ]
        },
        {
            "cell_type": "markdown",
            "metadata": {},
            "source": [
                "#### 4.10 all recipes\n",
                "\n"
            ]
        },
        {
            "cell_type": "code",
            "execution_count": null,
            "metadata": {},
            "outputs": [],
            "source": [
                "set.seed(1234)\n",
                "library(future)\n",
                "library(furrr)\n",
                "selected_rcps <- list(base=rcp_bs_v0)\n",
                "plan(multisession,workers = 5)\n",
                "selected_rcps|>map(\\(rcp_item) rcp_item|>prep()|>bake(new_data=train)|>summary())\n",
                "plan(sequential)\n"
            ]
        },
        {
            "cell_type": "markdown",
            "metadata": {},
            "source": [
                "### 5. Model Specification ----\n",
                "\n"
            ]
        },
        {
            "cell_type": "code",
            "execution_count": null,
            "metadata": {},
            "outputs": [],
            "source": [
                "glm_eng <- \n",
                "  logistic_reg(penalty = 0.01,\n",
                "               mixture = 0.5) |>  # Example penalty and mixture values\n",
                "  set_engine(\"glmnet\") |>\n",
                "  set_mode(\"classification\")    # Specify classification\n",
                "\n",
                "lgbm_eng<-\n",
                "   parsnip::boost_tree(\n",
                "      trees = 500, # Number of trees\n",
                "      learn_rate = 0.01,\n",
                "      tree_depth = 6,\n",
                "      loss_reduction = 0.001,\n",
                "      sample_size = 0.85, # Added sample_size\n",
                "      #tree_depth = tune(),\n",
                "      \n",
                "      #mtry = tune(),\n",
                "      min_n = 30\n",
                "   ) |>\n",
                "   set_mode(\"classification\")|>\n",
                "   set_engine(\"lightgbm\",\n",
                "              #metric='roc_auc', \n",
                "              num_leaves = 20,\n",
                "              num_threads = 4,\n",
                "              verbose=1) \n",
                "\n",
                "rf_eng<- rand_forest( trees = 500, \n",
                "                      #learn_rate = 0.01,\n",
                "                      #mtry=tune(), \n",
                "                      min_n=30) |>\n",
                "  set_engine(\"ranger\",num.threads=4)|>\n",
                "  set_mode(\"classification\") \n",
                "\n",
                "xgb_eng<- parsnip::boost_tree( trees = 500, \n",
                "                      learn_rate = 0.01,\n",
                "                      loss_reduction = 0.001,\n",
                "                      sample_size = 0.85, # Added sample_size\n",
                "                      #mtry=tune(),\n",
                "                      min_n=30) |>\n",
                "  set_engine(\"xgboost\",num.threads=8)|>\n",
                "  set_mode(\"classification\")\n",
                "selected_eng <- list(glm=glm_eng,\n",
                "                     rf=rf_eng,\n",
                "                     lgbm=lgbm_eng#,\n",
                "                     #xgb=xgb_en\n",
                "                     )\n"
            ]
        },
        {
            "cell_type": "markdown",
            "metadata": {},
            "source": [
                "### 6. Workflow ----\n",
                "#### set metrics\n"
            ]
        },
        {
            "cell_type": "code",
            "execution_count": null,
            "metadata": {},
            "outputs": [],
            "source": [
                "rocauc_metrics <- metric_set(accuracy, roc_auc) # main goal is roc_auc, accuracy is just for reference\n",
                "\n"
            ]
        },
        {
            "cell_type": "markdown",
            "metadata": {},
            "source": [
                "#### simple wflow\n",
                "\n"
            ]
        },
        {
            "cell_type": "code",
            "execution_count": null,
            "metadata": {},
            "outputs": [],
            "source": [
                "set.seed(1234)\n",
                "simple_wf_fit <-\n",
                "  workflow() |>\n",
                "  add_recipe(rcp_bs_v0) |>\n",
                "  add_model(lgbm_eng)|>\n",
                "  last_fit(df_split,\n",
                "           metrics=rocauc_metrics)\n",
                "\n",
                "simple_wf_fit|>collect_metrics()\n",
                "# simple_wf_fit |>\n",
                "#   extract_fit_engine()|>\n",
                "#   plot()\n"
            ]
        },
        {
            "cell_type": "markdown",
            "metadata": {},
            "source": [
                "#### simple workflowset\n",
                "\n"
            ]
        },
        {
            "cell_type": "code",
            "execution_count": null,
            "metadata": {},
            "outputs": [],
            "source": [
                "set.seed(1234)\n",
                "library(future)\n",
                "plan(multisession,workers = 12)\n",
                "ctrl <- control_resamples(save_pred = TRUE, save_workflow = TRUE,verbose=TRUE)\n",
                "wfs_result <-\n",
                "  workflow_set(preproc = selected_rcps,\n",
                "               models = selected_eng ) |>\n",
                "  workflow_map(fn='fit_resamples',\n",
                "               resamples =cv_folds,\n",
                "               metrics =rocauc_metrics,\n",
                "               control = ctrl\n",
                "               )\n",
                "wfs_result|>collect_metrics()  |> filter(.metric=='roc_auc')\n",
                "  \n",
                "plan(sequential)\n"
            ]
        },
        {
            "cell_type": "markdown",
            "metadata": {},
            "source": [
                "### 7 stacking\n",
                "\n"
            ]
        },
        {
            "cell_type": "code",
            "execution_count": null,
            "metadata": {},
            "outputs": [],
            "source": [
                "set.seed(1234)\n",
                "library(future)\n",
                "#plan(multisession,workers = 4)\n",
                "combined_fit <-\n",
                "  stacks::stacks()|>\n",
                "  stacks::add_candidates(wfs_result)|>\n",
                "  stacks::blend_predictions()|>\n",
                "  stacks::fit_members()\n",
                "\n",
                "combined_fit|>\n",
                "  autoplot(type = \"weights\")\n",
                "\n",
                "autoplot(combined_fit)\n",
                "#plan(sequential)\n"
            ]
        },
        {
            "cell_type": "markdown",
            "metadata": {},
            "source": [
                "### 7. Tuning Grid ----\n",
                "\n"
            ]
        },
        {
            "cell_type": "code",
            "execution_count": null,
            "metadata": {},
            "outputs": [],
            "source": [
                "# cars_grid <- grid_space_filling(\n",
                "#   #learn_rate(range = c(0.01, 0.1)),\n",
                "#   # loss_reduction(range = c(0, 10)), #Keep if you want it.\n",
                "#   #bag_fraction(range = c(0.7, 0.9)), # Specify prop = TRUE.\n",
                "#   tree_depth(range = c(5, 10)),\n",
                "#   finalize(mtry(range = c(2, 10)),\n",
                "#            select(cars_train_set, -Price)),\n",
                "#   min_n(range = c(2, 20)),\n",
                "#   size = 10\n",
                "# )\n"
            ]
        },
        {
            "cell_type": "markdown",
            "metadata": {},
            "source": [
                "### 8. Cross-Validation ----\n",
                "\n"
            ]
        },
        {
            "cell_type": "code",
            "execution_count": null,
            "metadata": {},
            "outputs": [],
            "source": [
                "# combined it with step3 data splitting\n",
                "\n"
            ]
        },
        {
            "cell_type": "markdown",
            "metadata": {},
            "source": [
                "### 9. Tuning and Evaluation ----\n",
                "\n"
            ]
        },
        {
            "cell_type": "code",
            "execution_count": null,
            "metadata": {},
            "outputs": [],
            "source": [
                "# plan(multisession,workers =2)\n",
                "# cars_tune_results <- cars_workflow |>\n",
                "#   tune_grid(\n",
                "#     resamples = cars_folds,\n",
                "#     grid = cars_grid,\n",
                "#     metrics = metric_set(rmse),\n",
                "#      control = control_grid(save_pred = TRUE, \n",
                "#                             verbose = TRUE,\n",
                "#                             allow_par = F) # Keep predictions\n",
                "#   )\n",
                "#  \n",
                "#  # Find best parameters\n",
                "#  best_params <- cars_tune_results |>\n",
                "#    select_best(\"rmse\")\n",
                "# \n",
                "#  # Finalize workflow with best parameters\n",
                "#  final_workflow <- cars_workflow |>\n",
                "#    finalize_workflow(best_params)\n"
            ]
        },
        {
            "cell_type": "markdown",
            "metadata": {},
            "source": "\n"
        },
        {
            "cell_type": "code",
            "execution_count": null,
            "metadata": {},
            "outputs": [],
            "source": [
                "# Fit the final workflow to the training data\n",
                "# final_lgbm_fit <- last_fit(final_workflow,cars_split )\n",
                "# final_lgbm_mod <- extract_workflow(final_lgbm_fit )\n",
                "# collect_metrics(final_lgmb_mod)\n",
                "\n",
                "# plan(sequential)\n"
            ]
        },
        {
            "cell_type": "markdown",
            "metadata": {},
            "source": [
                "### 10. Evaluate on Test Set ----\n",
                "\n"
            ]
        },
        {
            "cell_type": "code",
            "execution_count": null,
            "metadata": {},
            "outputs": [],
            "source": [
                "combined_test_result <- \n",
                "  test_set %>%\n",
                "  bind_cols(predict(combined_fit, new_data=test_set,type='prob'))\n",
                "combined_test_result|>roc_auc(rainfall, .pred_1,event_level = 'second')\n"
            ]
        },
        {
            "cell_type": "markdown",
            "metadata": {},
            "source": [
                "### 11. Prepare Submission ----\n",
                "\n"
            ]
        },
        {
            "cell_type": "code",
            "execution_count": null,
            "metadata": {},
            "outputs": [],
            "source": [
                "set.seed(1234)\n",
                "library(future)\n",
                "plan(multisession,workers = 12)\n",
                "final_model <- combined_fit#simple_wf_fit|>extract_workflow()\n",
                "final_predictions <- final_model |>\n",
                "   predict(new_data = test,type='prob') \n",
                "plan(sequential)\n",
                "\n",
                " # #Handle negative predictions\n",
                " # final_predictions <- final_predictions |>\n",
                " #   mutate(.pred= ifelse(.pred< 0, 0, .pred))\n",
                "\n",
                " # Save submission file\n",
                " submission |>\n",
                "   mutate(rainfall=final_predictions$.pred_1)|>\n",
                "   readr::write_csv(\"submission.csv\")\n",
                " zip('submission.csv.zip','submission.csv')\n",
                " \n"
            ]
        },
        {
            "cell_type": "markdown",
            "metadata": {},
            "source": [
                "## kaggle submission\n",
                "\n",
                "\n",
                "\n",
                "### score submit\n"
            ]
        },
        {
            "cell_type": "code",
            "execution_count": null,
            "metadata": {},
            "outputs": [],
            "source": [
                "# submit latest submission.csv\n",
                "system('kaggle competitions submit -c playground-series-s5e3 -f submission.csv.zip -m \"sample_submission\"')\n",
                "Sys.sleep(15)\n",
                "# get latest score \n",
                "system('kaggle competitions submissions -q -c playground-series-s5e3')\n",
                "# \n",
                "# # get leader board score\n",
                "# #system('kaggle competitions leaderboard -s -v -c playground-series-s4e8')\n"
            ]
        },
        {
            "cell_type": "markdown",
            "metadata": {},
            "source": [
                "\n",
                "### notebook convert\n"
            ]
        },
        {
            "cell_type": "code",
            "execution_count": null,
            "metadata": {},
            "outputs": [],
            "source": [
                "library(rmd2jupyter)\n",
                "rmd2jupyter('rainfall_roc_auc_workflow.Rmd')\n"
            ]
        }
    ],
    "metadata": {
        "anaconda-cloud": "",
        "kernelspec": {
            "display_name": "R",
            "langauge": "R",
            "name": "ir"
        },
        "language_info": {
            "codemirror_mode": "r",
            "file_extension": ".r",
            "mimetype": "text/x-r-source",
            "name": "R",
            "pygments_lexer": "r",
            "version": "3.4.1"
        }
    },
    "nbformat": 4,
    "nbformat_minor": 1
}
